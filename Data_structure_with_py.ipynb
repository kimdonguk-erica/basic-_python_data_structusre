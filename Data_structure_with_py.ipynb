{
 "cells": [
  {
   "cell_type": "markdown",
   "id": "5170e2f7-f54b-4be7-86e9-054da867bc11",
   "metadata": {},
   "source": [
    "## 리스트의 append()와 pop() 메서드로 스택 구현"
   ]
  },
  {
   "cell_type": "code",
   "execution_count": 17,
   "id": "195eb4c7-0d2e-45e7-aff0-fe54e1587982",
   "metadata": {},
   "outputs": [
    {
     "name": "stdout",
     "output_type": "stream",
     "text": [
      "스택이 비었나요? True\n",
      "스택에 숫자 0~9를 추가합니다.\n",
      "스택 크기: 10\n",
      "peek: 9\n",
      "pop: 9\n",
      "peek: 8\n",
      "스택이 비었나요? False\n",
      "[0, 1, 2, 3, 4, 5, 6, 7, 8]\n"
     ]
    }
   ],
   "source": [
    "class Stack(object):\n",
    "    def __init__(self):\n",
    "        self.items = []\n",
    "\n",
    "    def isEmpty(self):\n",
    "        return not bool(self.items)\n",
    "\n",
    "    def push(self, value):\n",
    "        self.items.append(value)\n",
    "\n",
    "    def pop(self):\n",
    "        value = self.items.pop()\n",
    "        if value is not None:\n",
    "            return value\n",
    "        else:\n",
    "            print(\"Stack is Empty\")\n",
    "\n",
    "    def size(self):\n",
    "        return len(self.items)\n",
    "\n",
    "    def peek(self):\n",
    "        if self.items:\n",
    "            return self.items[-1]\n",
    "        else:\n",
    "            print(\"Stack is Empty\")\n",
    "\n",
    "    def __repr__(self):\n",
    "        return repr(self.items)\n",
    "\n",
    "\n",
    "if __name__ == \"__main__\":\n",
    "    stack = Stack()\n",
    "    print(\"스택이 비었나요? {}\".format(stack.isEmpty()))\n",
    "    print(\"스택에 숫자 0~9를 추가합니다.\")\n",
    "    for i in range(10):\n",
    "        stack.push(i)\n",
    "    print(\"스택 크기: {0}\".format(stack.size()))\n",
    "    print(\"peek: {0}\".format(stack.peek()))\n",
    "    print(\"pop: {0}\".format(stack.pop()))\n",
    "    print(\"peek: {0}\".format(stack.peek()))\n",
    "    print(\"스택이 비었나요? {}\".format(stack.isEmpty()))\n",
    "    print(stack)"
   ]
  },
  {
   "cell_type": "markdown",
   "id": "bb79489c-6dea-4eb5-bca1-a9a7de0d8f9d",
   "metadata": {},
   "source": [
    "## 노드의 컨테이너로 스택 구현"
   ]
  },
  {
   "cell_type": "code",
   "execution_count": 18,
   "id": "1ab9a6e6-bd40-4677-9363-9ac5086512f0",
   "metadata": {},
   "outputs": [
    {
     "name": "stdout",
     "output_type": "stream",
     "text": [
      "스택이 비었나요? True\n",
      "스택에 숫자 0~9를 추가합니다.\n",
      "스택 크기: 10\n",
      "peek: 9\n",
      "pop: 9\n",
      "peek: 8\n",
      "스택이 비었나요? False\n",
      "스택 상태: 8 -> 7 -> 6 -> 5 -> 4 -> 3 -> 2 -> 1 -> 0\n"
     ]
    }
   ],
   "source": [
    "class Node:\n",
    "    def __init__(self, value = None, next = None):\n",
    "        self.value = value\n",
    "        self.next = next  # 다음 노드를 가리키는 포인터\n",
    "\n",
    "\n",
    "class Stack:\n",
    "    def __init__(self):\n",
    "        self.top = None  # 스택의 최상단 (가장 최근에 추가된 노드)\n",
    "        self.count = 0   # 스택 크기\n",
    "\n",
    "    def isEmpty(self):\n",
    "        return self.top is None\n",
    "\n",
    "    def push(self, value):\n",
    "        new_node = Node(value)\n",
    "        new_node.next = self.top  # 새 노드가 현재 top의 주소값을 가짐 ( next에 다음 노드의 주소값을 저장해서 연결 관계를 만든다. 연결 리스트 기반 스택의 핵심 원리 )\n",
    "        self.top = new_node       # top을 새 노드로 업데이트\n",
    "        self.count += 1\n",
    "\n",
    "    def pop(self):\n",
    "        if self.isEmpty():\n",
    "            print(\"Stack is Empty\")\n",
    "            return None\n",
    "        value = self.top.value\n",
    "        self.top = self.top.next  # top을 다음 노드로 이동\n",
    "        self.count -= 1\n",
    "        return value\n",
    "\n",
    "    def peek(self):\n",
    "        if self.isEmpty():\n",
    "            print(\"Stack is Empty\")\n",
    "            return None\n",
    "        return self.top.value\n",
    "\n",
    "    def size(self):\n",
    "        return self.count\n",
    "\n",
    "    def __repr__(self):\n",
    "        nodes = []\n",
    "        current = self.top\n",
    "        while current:\n",
    "            nodes.append(repr(current.value))\n",
    "            current = current.next\n",
    "        return \" -> \".join(nodes)\n",
    "\n",
    "\n",
    "if __name__ == \"__main__\":\n",
    "    stack = Stack()\n",
    "    print(\"스택이 비었나요? {}\".format(stack.isEmpty()))\n",
    "\n",
    "    print(\"스택에 숫자 0~9를 추가합니다.\")\n",
    "    for i in range(10):\n",
    "        stack.push(i)\n",
    "\n",
    "    print(\"스택 크기: {}\".format(stack.size()))\n",
    "    print(\"peek: {}\".format(stack.peek()))\n",
    "    print(\"pop: {}\".format(stack.pop()))\n",
    "    print(\"peek: {}\".format(stack.peek()))\n",
    "    print(\"스택이 비었나요? {}\".format(stack.isEmpty()))\n",
    "    print(\"스택 상태:\", stack)"
   ]
  },
  {
   "cell_type": "markdown",
   "id": "7150622c-5fca-40df-a9ec-3d4d9f80fbe0",
   "metadata": {},
   "source": [
    "## 두 개의 스택을 사용한 효율적인 큐"
   ]
  },
  {
   "cell_type": "code",
   "execution_count": 23,
   "id": "7b833566-019f-4e35-ac5c-9e81eeacd867",
   "metadata": {},
   "outputs": [
    {
     "name": "stdout",
     "output_type": "stream",
     "text": [
      "큐가 비었나요? True\n",
      "큐에 숫자 0~9를 추가합니다.\n",
      "큐 크기: 10\n",
      "peek: 0\n",
      "dequeue: 0\n",
      "peek: 1\n",
      "큐가 비었나요? False\n",
      "[9, 8, 7, 6, 5, 4, 3, 2, 1]\n"
     ]
    }
   ],
   "source": [
    "class Queue(object):\n",
    "    def __init__(self):\n",
    "        self.in_stack = []\n",
    "        self.out_stack = []\n",
    "\n",
    "    def _transfer(self):\n",
    "        while self.in_stack:\n",
    "            self.out_stack.append(self.in_stack.pop())\n",
    "\n",
    "    def enqueue(self, item):\n",
    "        return self.in_stack.append(item)\n",
    "\n",
    "    def dequeue(self):\n",
    "        if not self.out_stack:\n",
    "            self._transfer()\n",
    "        if self.out_stack:\n",
    "            return self.out_stack.pop()\n",
    "        else:\n",
    "            print(\"Queue is empty!\")\n",
    "\n",
    "    def size(self):\n",
    "        return len(self.in_stack) + len(self.out_stack)\n",
    "\n",
    "    def peek(self):\n",
    "        if not self.out_stack:\n",
    "            self._transfer()\n",
    "        if self.out_stack:\n",
    "            return self.out_stack[-1]\n",
    "        else:\n",
    "            print(\"Queue is empty!\")\n",
    "\n",
    "    def __repr__(self):\n",
    "        if not self.out_stack:\n",
    "            self._transfer()\n",
    "        if self.out_stack:\n",
    "            return repr(self.out_stack)\n",
    "        else:\n",
    "            print(\"Queue is empty!\")\n",
    "\n",
    "    def isEmpty(self):\n",
    "        return not (bool(self.in_stack) or bool(self.out_stack))\n",
    "\n",
    "if __name__ == \"__main__\":\n",
    "    queue = Queue()\n",
    "    print(\"큐가 비었나요? {}\".format(queue.isEmpty()))\n",
    "    print(\"큐에 숫자 0~9를 추가합니다.\")\n",
    "    for i in range(10):\n",
    "        queue.enqueue(i)\n",
    "    print(\"큐 크기: {0}\".format(queue.size()))\n",
    "    print(\"peek: {0}\".format(queue.peek()))\n",
    "    print(\"dequeue: {0}\".format(queue.dequeue()))\n",
    "    print(\"peek: {0}\".format(queue.peek()))\n",
    "    print(\"큐가 비었나요? {}\".format(queue.isEmpty()))\n",
    "    print(queue)"
   ]
  },
  {
   "cell_type": "markdown",
   "id": "8e7b8d37-e383-4b56-9c31-3881ff890496",
   "metadata": {},
   "source": [
    "## 최대 힙 구현"
   ]
  },
  {
   "cell_type": "code",
   "execution_count": 25,
   "id": "7a81faf7-0e2b-43d2-8ea0-a35d8a2f98f6",
   "metadata": {},
   "outputs": [
    {
     "name": "stdout",
     "output_type": "stream",
     "text": [
      "테스트 통과!\n"
     ]
    }
   ],
   "source": [
    "'''\n",
    "먼저 최대 힙을 예시로 리스트 [3,2,5,1,7,8,2]를 힙으로 만들면 인덱스 0의 자식은 1,2 1의 자식은 3,4 2의 자식은 5,6이 된다. \n",
    "따라서 노드 i의 왼쪽 자식 노드의 인덱스는 (i*2)+1 오른쪽 자식은 (i*2)+2이다.\n",
    "배열을 반으로 나눠 시작해보면 인덱스가 3일땐 자식이 없으니 패스\n",
    "2일 때 자식이 있고 값 5보다 큰 값 8이 존재하므로, 인덱스 2와 5값을 교환\n",
    "교환한 인덱스 5를 자식과 비교하는데 자식이 없으므로 패스\n",
    "인덱스가 1일 때, 값 2 보다 큰 값인 7이 존재하므로, 인덱스 1과 4 값을 교환\n",
    "교환한 인덱스 4를 자식과 비교하는데 자식이 없으므로 패스\n",
    "인덱스가 0일 때, 값 3보다 큰 값 8인 자식이 존재하므로, 인덱스 0과 2의 값을 교환\n",
    "교환한 인덱스 2의 자식에서 값 3보다 큰 값 5가 존재하므로 인덱스 2와 5를 교환 \n",
    "교환한 인덱스 5의 자식이 없으므로 패스\n",
    "'''\n",
    "class Heapify(object):\n",
    "    def __init__(self, data=None):\n",
    "        self.data = data or []\n",
    "        for i in range(len(data)//2,-1,-1):\n",
    "            self.__max_heapify__(i)\n",
    "\n",
    "    def __repr__(self):\n",
    "        return repr(self.data)\n",
    "\n",
    "    def parent(self, i):\n",
    "        if i & 1:\n",
    "            return i >> 1\n",
    "        else:\n",
    "            return (i >> 1) -1\n",
    "\n",
    "    def left_child(self, i):\n",
    "        return (i << 1) + 1\n",
    "\n",
    "    def right_child(self, i):\n",
    "        return (i << 1) + 2\n",
    "\n",
    "    def __max_heapify__(self, i):\n",
    "        largest = i #현재 노드\n",
    "        left = self.left_child(i)\n",
    "        right = self.right_child(i)\n",
    "        n = len(self.data)\n",
    "\n",
    "        #왼쪽 자식\n",
    "        largest = (left < n and self.data[left] > self.data[i]) and left or i\n",
    "        #오른쪽 자식\n",
    "        largest = (right < n and self.data[right] > self.data[largest]) and right or largest\n",
    "\n",
    "        #현재 노드가 자식들보다 크다면 Skip, 자식이 크다면 Swap\n",
    "        if i is not largest:\n",
    "            self.data[i], self.data[largest] = self.data[largest], self.data[i]\n",
    "            #print(self.data)\n",
    "            self.__max_heapify__(largest)\n",
    "\n",
    "    def extract_max(self):\n",
    "        n = len(self.data)\n",
    "        max_element = self.data[0]\n",
    "        #첫번째 노드에 마지막 노드를 삽입\n",
    "        self.data[0] = self.data[n - 1]\n",
    "        self.data = self.data[:n - 1]\n",
    "        self.__max_heapify__(0)\n",
    "        return max_element\n",
    "\n",
    "    def insert(self, item):\n",
    "        i = len(self.data)\n",
    "        self.data.append(item)\n",
    "        while (i != 0) and item > self.data[self.parent(i)]:\n",
    "            print(self.data)\n",
    "            self.data[i] = self.data[self.parent(i)]\n",
    "            i = self.parent(i)\n",
    "        self.data[i] = item\n",
    "\n",
    "def test_heapify():\n",
    "    l1 = [3,2,5,1,7,8,2]\n",
    "    h = Heapify(l1)\n",
    "    assert(h.extract_max() == 8)\n",
    "    print(\"테스트 통과!\")\n",
    "\n",
    "if __name__ == \"__main__\":\n",
    "    test_heapify()"
   ]
  },
  {
   "cell_type": "markdown",
   "id": "3e29f1e0-c073-463f-85de-d2a0c1369202",
   "metadata": {},
   "source": [
    "## `heapq` 모듈을 이용한 우선순위 큐 구현"
   ]
  },
  {
   "cell_type": "code",
   "execution_count": 27,
   "id": "e0b4425a-00f0-41f6-ab4f-d26c9a7b6655",
   "metadata": {},
   "outputs": [
    {
     "name": "stdout",
     "output_type": "stream",
     "text": [
      "테스트 통과!\n"
     ]
    }
   ],
   "source": [
    "import heapq\n",
    "\n",
    "class PriorityQueue(object):\n",
    "    def __init__(self):\n",
    "        self._queue = []\n",
    "        self._index = 0\n",
    "\n",
    "    def push(self, item, priority):\n",
    "        heapq.heappush(self._queue, (-priority, self._index, item))\n",
    "        self._index += 1\n",
    "\n",
    "    def pop(self):\n",
    "        return heapq.heappop(self._queue)[-1]\n",
    "\n",
    "class Item:\n",
    "    def __init__(self, name):\n",
    "        self.name = name\n",
    "\n",
    "    def __repr__(self):\n",
    "        return \"Item({0!r})\".format(self.name)\n",
    "\n",
    "def test_priority_queue():\n",
    "    '''push와 pop은 모두 O(logN)이다. '''\n",
    "    q = PriorityQueue()\n",
    "    q.push(Item('test1'), 1)\n",
    "    q.push(Item('test2'), 4)\n",
    "    q.push(Item('test3'), 3)\n",
    "    assert(str(q.pop()) == \"Item('test2')\")\n",
    "    print(\"테스트 통과!\")\n",
    "\n",
    "if __name__ == \"__main__\":\n",
    "    test_priority_queue()"
   ]
  },
  {
   "cell_type": "markdown",
   "id": "83c3ecb3-543f-4d57-821a-fc82d0461dff",
   "metadata": {},
   "source": [
    "## 노드 클래스 예제"
   ]
  },
  {
   "cell_type": "code",
   "execution_count": 33,
   "id": "15c404c9-3642-49fc-8b8c-1dd539253058",
   "metadata": {},
   "outputs": [
    {
     "name": "stdout",
     "output_type": "stream",
     "text": [
      "a\n",
      "b\n",
      "aa\n",
      "e\n"
     ]
    }
   ],
   "source": [
    "class Node:\n",
    "    def __init__(self, value=None, pointer=None):\n",
    "        self.value = value  # 노드의 값을 초기화\n",
    "        self.pointer = pointer  # 다음 노드를 가리키는 포인터를 초기화\n",
    "\n",
    "    def getData(self):\n",
    "        return self.value  # 노드의 값을 반환\n",
    "\n",
    "    def getNext(self):\n",
    "        return self.pointer  # 다음 노드를 가리키는 포인터를 반환\n",
    "\n",
    "    def setData(self, newdata):\n",
    "        self.value = newdata  # 노드의 값을 새로운 값으로 설정\n",
    "\n",
    "    def setNext(self, newpointer):\n",
    "        self.pointer = newpointer  # 다음 노드를 가리키는 포인터를 새로운 포인터로 설정\n",
    "\n",
    "# 메인 실행 블록\n",
    "if __name__ == \"__main__\":\n",
    "    # 연결 리스트 생성: \"a\" -> \"b\" -> \"c\" -> \"d\"\n",
    "    L = Node(\"a\", Node(\"b\", Node(\"c\", Node(\"d\"))))\n",
    "    \n",
    "    # assert 문을 사용하여 두 번째 노드의 다음 노드가 \"c\"인지 확인\n",
    "    assert(L.pointer.pointer.value == \"c\")\n",
    "\n",
    "    # 노드 L의 값을 출력 (\"a\")\n",
    "    print(L.getData())\n",
    "    # 노드 L의 다음 노드의 값을 출력 (\"b\")\n",
    "    print(L.getNext().getData())\n",
    "    \n",
    "    # 노드 L의 값을 \"aa\"로 변경\n",
    "    L.setData(\"aa\")\n",
    "    # 노드 L의 다음 노드를 새로운 노드 \"e\"로 설정\n",
    "    L.setNext(Node(\"e\"))\n",
    "    \n",
    "    # 변경된 노드 L의 값을 출력 (\"aa\")\n",
    "    print(L.getData())\n",
    "    # 변경된 노드 L의 다음 노드의 값을 출력 (\"e\")\n",
    "    print(L.getNext().getData())\n"
   ]
  },
  {
   "cell_type": "markdown",
   "id": "a7843141-cbc8-4873-bb09-61ac4fd8ae46",
   "metadata": {},
   "source": [
    "## 연결리스트를 이용한 해시 테이블 구현"
   ]
  },
  {
   "cell_type": "code",
   "execution_count": 2,
   "id": "5d6e4be5-1619-48ba-9b68-babdc340f08e",
   "metadata": {},
   "outputs": [
    {
     "name": "stdout",
     "output_type": "stream",
     "text": [
      "1\n",
      "2\n",
      "None\n"
     ]
    }
   ],
   "source": [
    "class Node: #연결 리스트의 단일 노드\n",
    "    def __init__(self, key, value):\n",
    "        self.key = key\n",
    "        self.value = value\n",
    "        self.next = None # 다음 노드를 가리키는 포인터, 초기값은 None\n",
    "\n",
    "class LinkedList: #여러 노드로 구성된 연결 리스트를 관리.\n",
    "    def __init__(self):\n",
    "        self.head = None # 연결 리스트의 헤드 노드(첫 번째 노드), 초기값은 None\n",
    "\n",
    "    def append(self, key, value):\n",
    "        if not self.head:\n",
    "            self.head = Node(key, value) # 헤드 노드가 없으면 새로운 노드를 헤드로 설정\n",
    "        else:\n",
    "            current = self.head\n",
    "            while current.next:\n",
    "                current = current.next\n",
    "            current.next = Node(key, value) # 마지막 노드의 next를 새로운 노드로 설정\n",
    "\n",
    "    def find(self, key):\n",
    "        current = self.head\n",
    "        while current:\n",
    "            if current.key == key:\n",
    "                return current.value # 키가 일치하는 경우 값을 반환\n",
    "            current = current.next\n",
    "        return None # 찾는 키가 없으면 None 반환\n",
    "\n",
    "    def remove(self, key):\n",
    "        current = self.head # 현재 노드를 헤드로 초기화합니다.\n",
    "        previous = None # 이전 노드는 초기에는 None입니다.\n",
    "        #연결 리스트에서 노드를 삭제할 때, 삭제할 노드의 이전 노드를 알고 있어야 한다. 그 이유는 삭제할 노드의 이전 노드가 삭제될 노드의 다음 노드를 가리키도록 설정해야 하기 때문이다.\n",
    "        while current:\n",
    "            if current.key == key:\n",
    "                if previous:\n",
    "                    previous.next = current.next \n",
    "                    # 중간 노드를 삭제하는 경우, 이전 노드의 다음을 현재 노드의 다음으로 설정\n",
    "                else:\n",
    "                    self.head = current.next \n",
    "                    # 헤드 노드를 삭제하는 경우, 헤드를 현재 노드의 다음으로 설정\n",
    "                return True\n",
    "            previous = current # 이전 노드를 현재 노드로 업데이트\n",
    "            current = current.next # 현재 노드를 다음 노드로 업데이트\n",
    "        return False # 찾는 키가 없으면 False 반환\n",
    "\n",
    "\n",
    "class HashTable: #실제 해시 테이블을 구현\n",
    "    def __init__(self, size=50):\n",
    "        self.size = size\n",
    "        self.table = [LinkedList() for _ in range(size)] # 크기만큼의 연결 리스트 배열 생성\n",
    "\n",
    "    def _hash(self, key):\n",
    "        return sum(ord(char) for char in key) % self.size # 해시 함수: 키의 아스키 값을 합산하여 크기로 나눈 나머지 반환\n",
    "\n",
    "    def set(self, key, value):\n",
    "        index = self._hash(key)\n",
    "        self.table[index].append(key, value) # 해시 값을 인덱스로 하여 키-값 쌍 추가\n",
    "\n",
    "    def get(self, key):\n",
    "        index = self._hash(key)\n",
    "        return self.table[index].find(key) # 해시 값을 인덱스로 하여 값 찾기\n",
    "\n",
    "    def remove(self, key):\n",
    "        index = self._hash(key)\n",
    "        return self.table[index].remove(key) # 해시 값을 인덱스로 하여 키-값 쌍 제거\n",
    "\n",
    "# 사용 예제\n",
    "hash_table = HashTable()\n",
    "hash_table.set(\"apple\", 1) # 키 \"apple\"과 값 1을 추가\n",
    "hash_table.set(\"banana\", 2) # 키 \"banana\"와 값 2를 추가\n",
    "print(hash_table.get(\"apple\"))   # 출력: 1\n",
    "print(hash_table.get(\"banana\"))  # 출력: 2\n",
    "hash_table.remove(\"banana\") # 키 \"banana\"를 제거\n",
    "print(hash_table.get(\"banana\"))  # 출력: None\n"
   ]
  },
  {
   "cell_type": "markdown",
   "id": "b41b8963-17ad-4ce0-9351-b76ef3e6c167",
   "metadata": {},
   "source": [
    "## 피보나치 수열에서 n번째 요소를 찾는 알고리즘 예제로 함수의 실행시간 분석"
   ]
  },
  {
   "cell_type": "code",
   "execution_count": 3,
   "id": "00d33b71-5a7d-4111-8c36-f83bb4b7532f",
   "metadata": {},
   "outputs": [
    {
     "name": "stdout",
     "output_type": "stream",
     "text": [
      "5\n"
     ]
    },
    {
     "data": {
      "text/plain": [
       "'\\n재귀식 T(n) = a(Tg(n)) + f(n)을 떠올려보자. 이 경우 g(n)은 n-2와 n-1이고 a = 2, f(n) = 1이다. \\n따라서 재귀식T(n) = 2T(n-1) + 1 다음 단계의 재귀식들은 2^2T(n-2) +2 => 2^kT(n-k) + k \\n베이스 케이스는 T(1) = 1이며, 시간복잡도는 O(1)이므로 n - k = 1, k = n-1이다 이를 대입하면 T(n) = 2^(n-1) + n-1~2^n 따라서 시간 복잡도는 O(2^n이다.)\\n'"
      ]
     },
     "execution_count": 3,
     "metadata": {},
     "output_type": "execute_result"
    }
   ],
   "source": [
    "def find_fibonacci_seq_rec(n):\n",
    "\tif n < 2:\n",
    "\t\treturn n\n",
    "\treturn find_fibonacci_seq_rec(n-1) + find_fibonacci_seq_rec(n-2)\n",
    "\n",
    "if __name__ == \"__main__\":\n",
    "\tprint(find_fibonacci_seq_rec(5))\n",
    "\n",
    "'''\n",
    "재귀식 T(n) = a(Tg(n)) + f(n)을 떠올려보자. 이 경우 g(n)은 n-2와 n-1이고 a = 2, f(n) = 1이다. \n",
    "따라서 재귀식T(n) = 2T(n-1) + 1 다음 단계의 재귀식들은 2^2T(n-2) +2 => 2^kT(n-k) + k \n",
    "베이스 케이스는 T(1) = 1이며, 시간복잡도는 O(1)이므로 n - k = 1, k = n-1이다 이를 대입하면 T(n) = 2^(n-1) + n-1~2^n 따라서 시간 복잡도는 O(2^n이다.)\n",
    "'''"
   ]
  },
  {
   "cell_type": "markdown",
   "id": "aac4b283-e944-4e23-8b9b-f485ba7c04b7",
   "metadata": {},
   "source": [
    "## 버블 정렬 알고리즘"
   ]
  },
  {
   "cell_type": "code",
   "execution_count": 5,
   "id": "923e0591-3166-464b-9294-17269d0f54da",
   "metadata": {},
   "outputs": [
    {
     "name": "stdout",
     "output_type": "stream",
     "text": [
      "테스트 통과!!!\n"
     ]
    }
   ],
   "source": [
    "def bubble_sort(seq):\n",
    "    # 시퀀스의 길이 - 1을 구합니다. 실제 반복문에서 사용됩니다.\n",
    "    length = len(seq) - 1\n",
    "    \n",
    "    # length에서 1까지 감소하는 동안 반복합니다.\n",
    "    for num in range(length, 0, -1):\n",
    "        # 각 반복마다 0부터 num까지 반복합니다.\n",
    "        for i in range(num):\n",
    "            # 현재 항목이 다음 항목보다 큰 경우,\n",
    "            if seq[i] > seq[i+1]:\n",
    "                # 두 항목을 교환합니다.\n",
    "                seq[i], seq[i+1] = seq[i+1], seq[i]\n",
    "    # 정렬된 시퀀스를 반환합니다.\n",
    "    return seq\n",
    "\n",
    "def test_bubble_sort():\n",
    "    # 테스트용 시퀀스를 정의합니다.\n",
    "    seq = [4, 5, 2, 1, 6, 2, 7, 10, 13, 8]\n",
    "    # 버블 정렬 결과가 내장된 정렬 함수와 같은지 확인합니다.\n",
    "    assert(bubble_sort(seq) == sorted(seq))\n",
    "    # 테스트 통과 메시지를 출력합니다.\n",
    "    print(\"테스트 통과!!!\")\n",
    "\n",
    "if __name__ == \"__main__\":\n",
    "    # 메인 함수로 테스트 함수를 실행합니다.\n",
    "    test_bubble_sort()\n"
   ]
  },
  {
   "cell_type": "markdown",
   "id": "5283d50a-12ea-4f77-846e-4732be119b04",
   "metadata": {},
   "source": [
    "## 선택 정렬"
   ]
  },
  {
   "cell_type": "code",
   "execution_count": 7,
   "id": "9e31f7be-63b4-4607-a672-ebcbfed3fbe9",
   "metadata": {},
   "outputs": [
    {
     "name": "stdout",
     "output_type": "stream",
     "text": [
      "테스트 통과!!!\n"
     ]
    }
   ],
   "source": [
    "def selection_sort(seq):\n",
    "    # 시퀀스의 길이를 계산합니다.\n",
    "    length = len(seq)\n",
    "    \n",
    "    # 시퀀스의 모든 요소에 대해 반복합니다 (마지막 요소 제외).\n",
    "    for i in range(length - 1):\n",
    "        # 현재 인덱스를 가장 작은 값의 인덱스로 초기화합니다.\n",
    "        min_j = i\n",
    "        \n",
    "        # 현재 인덱스 이후의 모든 요소에 대해 반복합니다.\n",
    "        for j in range(i + 1, length):\n",
    "            # 현재 가장 작은 값보다 작은 값을 찾으면 인덱스를 업데이트합니다.\n",
    "            if seq[min_j] > seq[j]:\n",
    "                min_j = j\n",
    "        \n",
    "        # 현재 인덱스의 값과 가장 작은 값의 인덱스를 교환합니다.\n",
    "        seq[i], seq[min_j] = seq[min_j], seq[i]\n",
    "    \n",
    "    # 정렬된 시퀀스를 반환합니다.\n",
    "    return seq\n",
    "\n",
    "def test_selection_sort():\n",
    "    # 테스트용 시퀀스를 정의합니다.\n",
    "    seq = [11, 3, 28, 43, 9, 4]\n",
    "    \n",
    "    # 선택 정렬 결과가 내장된 정렬 함수와 같은지 확인합니다.\n",
    "    assert(selection_sort(seq) == sorted(seq))\n",
    "    \n",
    "    # 테스트 통과 메시지를 출력합니다.\n",
    "    print(\"테스트 통과!!!\")\n",
    "\n",
    "if __name__ == \"__main__\":\n",
    "    # 메인 함수로 테스트 함수를 실행합니다.\n",
    "    test_selection_sort()\n"
   ]
  },
  {
   "cell_type": "markdown",
   "id": "69a094b9-32b8-4709-ad96-861bb0d1cccf",
   "metadata": {},
   "source": [
    "## 삽입 정렬 구현"
   ]
  },
  {
   "cell_type": "code",
   "execution_count": 8,
   "id": "9bf13674-8320-4931-a9ee-0db16108d95c",
   "metadata": {},
   "outputs": [
    {
     "name": "stdout",
     "output_type": "stream",
     "text": [
      "테스트 통과!!!\n"
     ]
    }
   ],
   "source": [
    "def insertion_sort(seq):\n",
    "    # 리스트의 두 번째 요소부터 마지막 요소까지 반복합니다.\n",
    "    for i in range(1, len(seq)):\n",
    "        # 현재 위치를 j로 설정합니다.\n",
    "        j = i\n",
    "        # j가 0보다 크고, 현재 요소가 이전 요소보다 작을 경우 반복합니다.\n",
    "        while j > 0 and seq[j-1] > seq[j]:\n",
    "            # 현재 요소와 이전 요소를 교환합니다.\n",
    "            seq[j-1], seq[j] = seq[j], seq[j-1]\n",
    "            # j를 하나 감소시킵니다.\n",
    "            j -= 1\n",
    "    # 정렬된 리스트를 반환합니다.\n",
    "    return seq\n",
    "\n",
    "def insertion_sort_rec(seq, i=None):\n",
    "    # i가 None인 경우, 리스트의 마지막 인덱스로 초기화합니다.\n",
    "    if i is None:\n",
    "        i = len(seq) - 1\n",
    "    # 리스트의 첫 번째 요소에 도달하면 재귀 호출을 종료합니다.\n",
    "    if i == 0:\n",
    "        return i\n",
    "    # 재귀 호출을 통해 이전 요소들을 정렬합니다.\n",
    "    insertion_sort_rec(seq, i-1)\n",
    "    # 현재 위치를 j로 설정합니다.\n",
    "    j = i\n",
    "    # j가 0보다 크고, 현재 요소가 이전 요소보다 작을 경우 반복합니다.\n",
    "    while j > 0 and seq[j-1] > seq[j]:\n",
    "        # 현재 요소와 이전 요소를 교환합니다.\n",
    "        seq[j-1], seq[j] = seq[j], seq[j-1]\n",
    "        # j를 하나 감소시킵니다.\n",
    "        j -= 1\n",
    "    # 정렬된 리스트를 반환합니다.\n",
    "    return seq\n",
    "\n",
    "def test_insertion_sort():\n",
    "    # 테스트용 시퀀스를 정의합니다.\n",
    "    seq = [11, 3, 28, 43, 9, 4]\n",
    "    # 삽입 정렬 결과가 내장된 정렬 함수와 같은지 확인합니다.\n",
    "    assert(insertion_sort(seq) == sorted(seq))\n",
    "    # 테스트 통과 메시지를 출력합니다.\n",
    "    print(\"테스트 통과!!!\")\n",
    "\n",
    "if __name__ == \"__main__\":\n",
    "    # 메인 함수로 테스트 함수를 실행합니다.\n",
    "    test_insertion_sort()\n"
   ]
  },
  {
   "cell_type": "markdown",
   "id": "3f216032-5fad-43ad-839a-365acfa6b526",
   "metadata": {},
   "source": [
    "## 놈 정렬"
   ]
  },
  {
   "cell_type": "code",
   "execution_count": 9,
   "id": "cd715c34-302c-4b57-b4c6-05ffa10dbf97",
   "metadata": {},
   "outputs": [
    {
     "name": "stdout",
     "output_type": "stream",
     "text": [
      "테스트 통과!!!\n"
     ]
    }
   ],
   "source": [
    "def gnome_sort(seq):\n",
    "    # 초기 인덱스를 0으로 설정합니다.\n",
    "    i = 0\n",
    "    # 인덱스가 시퀀스 길이보다 작을 때까지 반복합니다.\n",
    "    while i < len(seq):\n",
    "        # i가 0이거나 현재 요소가 이전 요소보다 크거나 같으면 다음 인덱스로 이동합니다.\n",
    "        if i == 0 or seq[i-1] <= seq[i]:\n",
    "            i += 1\n",
    "        else:\n",
    "            # 그렇지 않으면 현재 요소와 이전 요소를 교환합니다.\n",
    "            seq[i], seq[i-1] = seq[i-1], seq[i]\n",
    "            # 이전 인덱스로 이동합니다.\n",
    "            i -= 1\n",
    "    # 정렬된 시퀀스를 반환합니다.\n",
    "    return seq\n",
    "\n",
    "def test_gnome_sort():\n",
    "    # 테스트용 시퀀스를 정의합니다.\n",
    "    seq = [5, 3, 2, 4]\n",
    "    # 놈 정렬 결과가 내장된 정렬 함수와 같은지 확인합니다.\n",
    "    assert(gnome_sort(seq) == sorted(seq))\n",
    "    # 테스트 통과 메시지를 출력합니다.\n",
    "    print(\"테스트 통과!!!\")\n",
    "\n",
    "if __name__ == \"__main__\":\n",
    "    # 메인 함수로 테스트 함수를 실행합니다.\n",
    "    test_gnome_sort()\n"
   ]
  },
  {
   "cell_type": "markdown",
   "id": "39380320-9f3f-4cc5-b9ab-d1332bc6856c",
   "metadata": {},
   "source": [
    "## 카운트 정렬 구현"
   ]
  },
  {
   "cell_type": "code",
   "execution_count": 10,
   "id": "b7466644-2f03-4012-ae25-763f667f5723",
   "metadata": {},
   "outputs": [
    {
     "name": "stdout",
     "output_type": "stream",
     "text": [
      "테스트 성공!!!\n"
     ]
    }
   ],
   "source": [
    "from collections import defaultdict\n",
    "\n",
    "def count_sort_dict(a):\n",
    "    b, c = [], defaultdict(list)\n",
    "    for x in a:\n",
    "        c[x].append(x)\n",
    "    for k in range(min(c), max(c) + 1):\n",
    "        b.extend(c[k])\n",
    "    return b\n",
    "\n",
    "def test_count_sort():\n",
    "    seq = [3,4,2,6,8,1,0,3,5,6,2,5,4,1,5,3]\n",
    "    assert(count_sort_dict(seq) == sorted(seq))\n",
    "    print(\"테스트 성공!!!\")\n",
    "\n",
    "if __name__ == \"__main__\":\n",
    "    test_count_sort()"
   ]
  },
  {
   "cell_type": "markdown",
   "id": "82ea1cd6-2314-4b7d-9e0a-c39dbb71fcd8",
   "metadata": {},
   "source": [
    "## 바텀 업 방식으로 병합 정렬 구현"
   ]
  },
  {
   "cell_type": "code",
   "execution_count": 13,
   "id": "44143a98-106b-45b1-94f4-41a4daaa8166",
   "metadata": {},
   "outputs": [
    {
     "name": "stdout",
     "output_type": "stream",
     "text": [
      "테스트 성공!!!\n"
     ]
    }
   ],
   "source": [
    "def merge_sort_bottom_up(seq):\n",
    "    \"\"\"\n",
    "    바텀업 방식으로 병합 정렬을 수행하는 함수. \n",
    "    - 재귀 없이 반복문을 이용하여 정렬 재귀 호출이 없어 함수 호출 비용이 줄어든다!\n",
    "    - 부분 배열 크기를 1 → 2 → 4 → 8 ... 점점 늘려가며 정렬\n",
    "    - 캐시 친화적(Cache Friendly) → 연속적인 메모리 접근으로 성능 최적화\n",
    "    - 스택 메모리 사용 X → 재귀 깊이 문제 없음\n",
    "    \"\"\"\n",
    "    n = len(seq)  # 배열의 길이\n",
    "    temp = seq[:]  # 원본 배열을 유지하면서 정렬할 보조 배열 (temp)\n",
    "\n",
    "    size = 1  # 부분 배열 크기 (1부터 시작)\n",
    "    while size < n:  # 부분 배열 크기가 배열 길이를 초과할 때까지 반복\n",
    "        # 크기 size의 부분 배열을 정렬하여 합침\n",
    "        for left in range(0, n - size, size * 2):\n",
    "            mid = left + size  # 중간 지점 (오른쪽 부분 시작)\n",
    "            right = min(left + size * 2, n)  # 오른쪽 부분의 끝 (배열 범위 초과 방지)\n",
    "            merge(seq, temp, left, mid, right)  # 병합 수행\n",
    "        size *= 2  # 부분 배열 크기를 2배로 증가 (1 → 2 → 4 → 8 ...)\n",
    "    \n",
    "    return seq  # 정렬된 배열을 반환\n",
    "\n",
    "def merge(seq, temp, left, mid, right):\n",
    "    \"\"\"\n",
    "    두 개의 정렬된 부분 배열을 병합하는 함수.\n",
    "    - arr[left:mid]와 arr[mid:right]를 병합하여 arr[left:right]에 저장\n",
    "    \"\"\"\n",
    "    i, j, k = left, mid, left  # i: 왼쪽 시작, j: 오른쪽 시작, k: 병합 결과 위치\n",
    "\n",
    "    # 두 부분 배열을 비교하며 병합\n",
    "    while i < mid and j < right:\n",
    "        if temp[i] <= temp[j]:  # 왼쪽 배열의 원소가 작거나 같으면 추가\n",
    "            seq[k] = temp[i]\n",
    "            i += 1\n",
    "        else:  # 오른쪽 배열의 원소가 작으면 추가\n",
    "            seq[k] = temp[j]\n",
    "            j += 1\n",
    "        k += 1\n",
    "\n",
    "    # 왼쪽 부분에 남은 원소가 있으면 추가\n",
    "    while i < mid:\n",
    "        seq[k] = temp[i]\n",
    "        i += 1\n",
    "        k += 1\n",
    "\n",
    "    # 오른쪽 부분에 남은 원소가 있으면 추가\n",
    "    while j < right:\n",
    "        seq[k] = temp[j]\n",
    "        j += 1\n",
    "        k += 1\n",
    "\n",
    "    # 정렬된 결과를 보조 배열(temp)에 저장하여 다음 단계에서 사용\n",
    "    for x in range(left, right):\n",
    "        temp[x] = seq[x]\n",
    "\n",
    "# 테스트 코드\n",
    "def test_merge_sort():\n",
    "    seq = [38, 27, 43, 3, 9, 82, 10]\n",
    "    assert(merge_sort_bottom_up(seq) == sorted(seq))  # 정렬된 결과와 비교\n",
    "    print(\"테스트 성공!!!\")\n",
    "\n",
    "if __name__ == \"__main__\":\n",
    "    test_merge_sort()\n"
   ]
  },
  {
   "cell_type": "markdown",
   "id": "f1833ab2-4878-410f-883b-b72f00f8567f",
   "metadata": {},
   "source": [
    "## 로무토 파티션 방식 (Lomuto Partition Scheme) + 최적화 기법으로 퀵 정렬 구현"
   ]
  },
  {
   "cell_type": "code",
   "execution_count": 16,
   "id": "70fe589b-a94a-4766-9f1c-afa0e62cffda",
   "metadata": {},
   "outputs": [
    {
     "name": "stdout",
     "output_type": "stream",
     "text": [
      "테스트 성공!!!\n"
     ]
    }
   ],
   "source": [
    "import random\n",
    "\n",
    "def quick_sort(seq, low, high):\n",
    "    \"\"\"\n",
    "    퀵 정렬(Quick Sort) - 로무토 파티션 방식 + 최적화 적용\n",
    "    - 재귀적으로 배열을 정렬\n",
    "    - 최악의 경우(O(n^2))를 방지하기 위해 피벗을 무작위로 선택 (랜덤 피벗)\n",
    "    \"\"\"\n",
    "    while low < high:  # 작은 배열은 재귀를 피하고 반복문 사용\n",
    "        # 피벗을 선택하고 배열을 나누는 파티션 수행\n",
    "        pivot_index = partition(seq, low, high)\n",
    "\n",
    "        # 최적화: 작은 부분 배열을 먼저 정렬하여 재귀 깊이를 줄임\n",
    "        if pivot_index - low < high - pivot_index:\n",
    "            quick_sort(seq, low, pivot_index - 1)\n",
    "            low = pivot_index + 1  # 오른쪽 부분을 반복문으로 처리\n",
    "        else:\n",
    "            quick_sort(seq, pivot_index + 1, high)\n",
    "            high = pivot_index - 1  # 왼쪽 부분을 반복문으로 처리\n",
    "\n",
    "def partition(seq, low, high):\n",
    "    \"\"\"\n",
    "    로무토 파티션 (Lomuto Partition)\n",
    "    - 피벗을 배열의 마지막 원소로 설정\n",
    "    - 피벗보다 작은 값들은 왼쪽으로, 큰 값들은 오른쪽으로 정렬\n",
    "    \"\"\"\n",
    "    pivot_index = random.randint(low, high)  # 랜덤 피벗 선택 (최적화)\n",
    "    seq[pivot_index], seq[high] = seq[high], seq[pivot_index]  # 피벗을 마지막 위치로 이동\n",
    "    pivot = seq[high]  # 피벗 값 설정\n",
    "\n",
    "    i = low - 1  # 작은 값들의 마지막 위치\n",
    "    for j in range(low, high):\n",
    "        if seq[j] < pivot:  # 현재 값이 피벗보다 작으면\n",
    "            i += 1\n",
    "            seq[i], seq[j] = seq[j], seq[i]  # 왼쪽으로 이동 (스왑)\n",
    "\n",
    "    seq[i + 1], seq[high] = seq[high], seq[i + 1]  # 피벗을 올바른 위치로 이동\n",
    "    return i + 1  # 피벗 위치 반환\n",
    "\n",
    "# 테스트 코드\n",
    "def test_quick_sort():\n",
    "    seq = [38, 27, 43, 3, 9, 82, 10]\n",
    "    quick_sort(seq, 0, len(seq) - 1)  # 정렬 함수 호출 시 low와 high 인자 추가\n",
    "    assert seq == sorted(seq)  # 정렬된 결과와 비교\n",
    "    print(\"테스트 성공!!!\")\n",
    "\n",
    "if __name__ == \"__main__\":\n",
    "    test_quick_sort()\n"
   ]
  },
  {
   "cell_type": "markdown",
   "id": "6c626a3a-b4c0-4183-aa1e-8751fc06dd9d",
   "metadata": {},
   "source": [
    "## 힙 정렬 구현"
   ]
  },
  {
   "cell_type": "code",
   "execution_count": 17,
   "id": "3341b4f1-20f3-40f9-92d1-2c6a80739fd1",
   "metadata": {},
   "outputs": [
    {
     "name": "stdout",
     "output_type": "stream",
     "text": [
      "테스트 성공!!!\n"
     ]
    }
   ],
   "source": [
    "def heap_sort(seq):\n",
    "    \"\"\"\n",
    "    힙 정렬 (Heap Sort) - O(n log n)\n",
    "    1. 주어진 배열을 최대 힙(Max Heap)으로 변환 (O(n))\n",
    "    2. 힙의 루트(최댓값)와 마지막 값을 교환 후 크기를 줄여가며 힙을 재정렬 (O(n log n))\n",
    "    \"\"\"\n",
    "    n = len(seq)\n",
    "\n",
    "    # 1️ 주어진 배열을 최대 힙(Max Heap)으로 변환 (O(n))\n",
    "    for i in range(n // 2 - 1, -1, -1):\n",
    "        heapify(seq, n, i)\n",
    "\n",
    "    # 2️ 힙에서 요소를 하나씩 꺼내 정렬 (O(n log n))\n",
    "    for i in range(n - 1, 0, -1):\n",
    "        seq[i], seq[0] = seq[0], seq[i]  # 루트(최댓값)와 마지막 요소 교환\n",
    "        heapify(seq, i, 0)  # 힙 크기를 줄이고 다시 힙 속성을 유지\n",
    "    return seq\n",
    "\n",
    "def heapify(seq, n, i):\n",
    "    \"\"\"\n",
    "    힙 재정렬 함수 (Heapify)\n",
    "    - 주어진 노드를 기준으로 힙 속성을 유지 (최대 힙)\n",
    "    - O(log n)의 시간 복잡도를 가짐\n",
    "    \"\"\"\n",
    "    largest = i  # 현재 노드\n",
    "    left = 2 * i + 1  # 왼쪽 자식 노드\n",
    "    right = 2 * i + 2  # 오른쪽 자식 노드\n",
    "\n",
    "    # 왼쪽 자식이 존재하고, 현재 노드보다 크다면 변경\n",
    "    if left < n and seq[left] > seq[largest]:\n",
    "        largest = left\n",
    "\n",
    "    # 오른쪽 자식이 존재하고, 현재 노드보다 크다면 변경\n",
    "    if right < n and seq[right] > seq[largest]:\n",
    "        largest = right\n",
    "\n",
    "    # largest가 변경되었다면, 스왑 후 재귀 호출\n",
    "    if largest != i:\n",
    "        seq[i], seq[largest] = seq[largest], seq[i]  # 스왑\n",
    "        heapify(seq, n, largest)  # 재귀적으로 힙을 다시 정렬\n",
    "\n",
    "# 테스트 코드\n",
    "def test_heap_sort():\n",
    "    seq = [38, 27, 43, 3, 9, 82, 10]\n",
    "    assert heap_sort(seq) == sorted(seq)  \n",
    "    print(\"테스트 성공!!!\")\n",
    "\n",
    "if __name__ == \"__main__\":\n",
    "    test_heap_sort()"
   ]
  },
  {
   "cell_type": "markdown",
   "id": "833db882-7d4d-4845-9a27-7d5a57be13dd",
   "metadata": {},
   "source": [
    "## 순차 검색 구현"
   ]
  },
  {
   "cell_type": "code",
   "execution_count": 19,
   "id": "fec0266b-c0a5-47f2-8d02-1b5976510438",
   "metadata": {},
   "outputs": [
    {
     "name": "stdout",
     "output_type": "stream",
     "text": [
      "테스트 성공!!!\n"
     ]
    }
   ],
   "source": [
    "    def linear_search(seq, target):\n",
    "        \"\"\"\n",
    "        순차 검색(Linear Search) 함수\n",
    "        - 배열(seq)에서 특정 값(target)을 찾음\n",
    "        - 배열의 모든 요소를 순차적으로 확인하여 원하는 값을 찾음\n",
    "        - 시간 복잡도: O(n)\n",
    "        \"\"\"\n",
    "        for index, value in enumerate(seq):  # 배열의 각 요소를 순회하면서\n",
    "            if value == target:  # 현재 값이 찾고자 하는 값과 같으면\n",
    "                return index  # 인덱스를 반환\n",
    "        return -1  # 값을 찾지 못하면 -1을 반환\n",
    "    \n",
    "    # 테스트 코드\n",
    "    def test_linear_search():\n",
    "        seq = [38, 27, 43, 3, 9, 82, 10]\n",
    "        target = 43\n",
    "        result = linear_search(seq, target)\n",
    "        assert result == seq.index(target)  # 순차 검색 결과와 내장 함수 결과를 비교\n",
    "        print(\"테스트 성공!!!\")\n",
    "    \n",
    "    if __name__ == \"__main__\":\n",
    "        test_linear_search()\n"
   ]
  },
  {
   "cell_type": "markdown",
   "id": "3aa466e2-ae96-4e2e-835f-f898c02a254d",
   "metadata": {},
   "source": [
    "## 이진 검색 구현"
   ]
  },
  {
   "cell_type": "code",
   "execution_count": 20,
   "id": "e2323651-04f2-4483-9098-6914ef63b5e7",
   "metadata": {},
   "outputs": [
    {
     "name": "stdout",
     "output_type": "stream",
     "text": [
      "테스트 성공!!!\n"
     ]
    }
   ],
   "source": [
    "def binary_search(seq, target):\n",
    "    \"\"\"\n",
    "    이진 검색(Binary Search) 함수\n",
    "    - 정렬된 배열(seq)에서 특정 값(target)을 찾음\n",
    "    - 배열을 절반으로 나누어 원하는 값을 찾음\n",
    "    - 시간 복잡도: O(log n)\n",
    "    \"\"\"\n",
    "    low, high = 0, len(seq) - 1  # 검색 범위의 시작과 끝 인덱스 설정\n",
    "\n",
    "    while low <= high:  # 검색 범위가 유효한 동안 반복\n",
    "        mid = (low + high) // 2  # 중간 인덱스 계산\n",
    "\n",
    "        if seq[mid] == target:  # 중간 값이 찾고자 하는 값과 같으면\n",
    "            return mid  # 인덱스를 반환\n",
    "        elif seq[mid] < target:  # 중간 값이 찾고자 하는 값보다 작으면\n",
    "            low = mid + 1  # 오른쪽 절반을 검색 범위로 설정\n",
    "        else:  # 중간 값이 찾고자 하는 값보다 크면\n",
    "            high = mid - 1  # 왼쪽 절반을 검색 범위로 설정\n",
    "\n",
    "    return -1  # 값을 찾지 못하면 -1을 반환\n",
    "\n",
    "# 테스트 코드\n",
    "def test_binary_search():\n",
    "    seq = [3, 9, 10, 27, 38, 43, 82]\n",
    "    target = 43\n",
    "    result = binary_search(seq, target)\n",
    "    assert result == seq.index(target)  # 이진 검색 결과와 내장 함수 결과를 비교\n",
    "    print(\"테스트 성공!!!\")\n",
    "\n",
    "if __name__ == \"__main__\":\n",
    "    test_binary_search()\n"
   ]
  },
  {
   "cell_type": "markdown",
   "id": "b1db68bc-ba7b-40b6-b5b0-6a77c30a0d7a",
   "metadata": {},
   "source": [
    "## 메모이제이션을 이용한 피보나치 수열 구현"
   ]
  },
  {
   "cell_type": "code",
   "execution_count": 22,
   "id": "8d6f6683-b7fb-4ce2-8c30-8931030380cf",
   "metadata": {},
   "outputs": [
    {
     "name": "stdout",
     "output_type": "stream",
     "text": [
      "Fibonacci(0) = 0\n",
      "Fibonacci(1) = 1\n",
      "Fibonacci(2) = 1\n",
      "Fibonacci(3) = 2\n",
      "Fibonacci(4) = 3\n",
      "Fibonacci(5) = 5\n",
      "Fibonacci(6) = 8\n",
      "Fibonacci(7) = 13\n",
      "Fibonacci(8) = 21\n",
      "Fibonacci(9) = 34\n"
     ]
    }
   ],
   "source": [
    "# 메모이제이션을 위한 딕셔너리 초기화\n",
    "memo = {}\n",
    "\n",
    "def fibonacci(n):\n",
    "    \"\"\"\n",
    "    피보나치 수열 함수\n",
    "    - 메모이제이션을 사용하여 중복 계산을 방지\n",
    "    - 동적 계획법을 이용하여 피보나치 수를 계산\n",
    "    \"\"\"\n",
    "    if n in memo:  # 이미 계산된 값이 있는지 확인\n",
    "        return memo[n]\n",
    "    if n <= 1:  # 기본 케이스: f(0) = 0, f(1) = 1\n",
    "        return n\n",
    "    # f(n-1)과 f(n-2)를 재귀적으로 계산\n",
    "    memo[n] = fibonacci(n-1) + fibonacci(n-2)\n",
    "    return memo[n]  # 계산 결과 반환 및 저장\n",
    "\n",
    "# 테스트 코드\n",
    "def test_fibonacci():\n",
    "    for i in range(10):\n",
    "        print(f\"Fibonacci({i}) = {fibonacci(i)}\")\n",
    "\n",
    "if __name__ == \"__main__\":\n",
    "    test_fibonacci()\n"
   ]
  },
  {
   "cell_type": "markdown",
   "id": "8e36511d-adcc-4a65-a46f-bf179c654095",
   "metadata": {},
   "source": [
    "## DFS 구현"
   ]
  },
  {
   "cell_type": "code",
   "execution_count": 27,
   "id": "d6aec232-3c79-4fac-b749-50f7c593d3e6",
   "metadata": {},
   "outputs": [
    {
     "name": "stdout",
     "output_type": "stream",
     "text": [
      "A B D E F C "
     ]
    }
   ],
   "source": [
    "# DFS 함수\n",
    "def dfs(graph, start):\n",
    "    visited = set()\n",
    "    stack = [start]\n",
    "\n",
    "    while stack:\n",
    "        node = stack.pop()\n",
    "        if node not in visited:\n",
    "            print(node, end=' ')\n",
    "            visited.add(node)\n",
    "            # 역순으로 스택에 노드를 추가하여 올바른 순서로 탐색\n",
    "            for neighbor in reversed(graph[node]):\n",
    "                if neighbor not in visited:\n",
    "                    stack.append(neighbor)\n",
    "\n",
    "# 예시 그래프 (인접 리스트 형태)\n",
    "graph = {\n",
    "    'A' : ['B', 'C'],\n",
    "    'B' : ['D', 'E'],\n",
    "    'C' : ['F'],\n",
    "    'D' : [],\n",
    "    'E' : ['F'],\n",
    "    'F' : []\n",
    "}\n",
    "\n",
    "# DFS 호출\n",
    "dfs(graph, 'A')\n"
   ]
  },
  {
   "cell_type": "code",
   "execution_count": 24,
   "id": "a2364d2e-52f8-4a35-b376-2ca20bfa464e",
   "metadata": {},
   "outputs": [],
   "source": [
    "## BFS 구현"
   ]
  },
  {
   "cell_type": "code",
   "execution_count": 25,
   "id": "16c2cdb3-6759-4aa1-ab1e-fe2f55d05f4d",
   "metadata": {},
   "outputs": [
    {
     "name": "stdout",
     "output_type": "stream",
     "text": [
      "A B C D E F "
     ]
    }
   ],
   "source": [
    "from collections import deque\n",
    "\n",
    "# BFS 함수\n",
    "def bfs(graph, start):\n",
    "    visited = set()\n",
    "    queue = deque([start])\n",
    "\n",
    "    while queue:\n",
    "        node = queue.popleft()\n",
    "        if node not in visited:\n",
    "            print(node, end=' ')\n",
    "            visited.add(node)\n",
    "            for neighbor in graph[node]:\n",
    "                if neighbor not in visited:\n",
    "                    queue.append(neighbor)\n",
    "\n",
    "# 예시 그래프 (인접 리스트 형태)\n",
    "graph = {\n",
    "    'A' : ['B', 'C'],\n",
    "    'B' : ['D', 'E'],\n",
    "    'C' : ['F'],\n",
    "    'D' : [],\n",
    "    'E' : ['F'],\n",
    "    'F' : []\n",
    "}\n",
    "\n",
    "# BFS 호출\n",
    "bfs(graph, 'A')\n"
   ]
  },
  {
   "cell_type": "code",
   "execution_count": null,
   "id": "da4c31fc-6571-4eb5-a521-6ccf82923c23",
   "metadata": {},
   "outputs": [],
   "source": []
  }
 ],
 "metadata": {
  "kernelspec": {
   "display_name": "Python 3 (ipykernel)",
   "language": "python",
   "name": "python3"
  },
  "language_info": {
   "codemirror_mode": {
    "name": "ipython",
    "version": 3
   },
   "file_extension": ".py",
   "mimetype": "text/x-python",
   "name": "python",
   "nbconvert_exporter": "python",
   "pygments_lexer": "ipython3",
   "version": "3.12.3"
  }
 },
 "nbformat": 4,
 "nbformat_minor": 5
}
